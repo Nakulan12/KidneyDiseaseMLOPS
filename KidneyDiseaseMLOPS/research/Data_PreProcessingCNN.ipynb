{
 "cells": [
  {
   "cell_type": "code",
   "execution_count": 1,
   "metadata": {},
   "outputs": [
    {
     "data": {
      "text/plain": [
       "'d:\\\\Data Science\\\\END to END Proj\\\\KidneyDiseaseMLOPS'"
      ]
     },
     "execution_count": 1,
     "metadata": {},
     "output_type": "execute_result"
    }
   ],
   "source": [
    "import os\n",
    "%pwd\n",
    "os.chdir(\"../\")\n",
    "%pwd"
   ]
  },
  {
   "cell_type": "code",
   "execution_count": 2,
   "metadata": {},
   "outputs": [],
   "source": [
    "from dataclasses import dataclass\n",
    "from pathlib import Path\n",
    "\n",
    "@dataclass(frozen=True)\n",
    "class DataPreprocessingConfig:\n",
    "    root_dir: Path\n",
    "    processed_data_file: Path\n",
    "    image_size: int\n"
   ]
  },
  {
   "cell_type": "code",
   "execution_count": 3,
   "metadata": {},
   "outputs": [],
   "source": [
    "from KidneyClassifier.utils.common import read_yaml, create_directories\n",
    "from pathlib import Path\n",
    "from KidneyClassifier.constant import*\n",
    "class ConfigurationManager:\n",
    "    def __init__(\n",
    "        self,\n",
    "        config_filepath=CONFIG_FILE_PATH,\n",
    "        params_filepath=PARAMS_FILE_PATH,\n",
    "    ):\n",
    "        self.config = read_yaml(config_filepath)\n",
    "        self.params = read_yaml(params_filepath)\n",
    "        create_directories([self.config.artifacts_root])\n",
    "\n",
    "    def get_data_preprocessing_config(self) -> DataPreprocessingConfig:\n",
    "        config = self.config.data_preprocessing\n",
    "        create_directories([config.root_dir])\n",
    "\n",
    "        return DataPreprocessingConfig(\n",
    "            root_dir=Path(config.root_dir),\n",
    "            processed_data_file=Path(config.processed_data_file),\n",
    "            image_size=config.image_size\n",
    "        )\n"
   ]
  },
  {
   "cell_type": "code",
   "execution_count": 4,
   "metadata": {},
   "outputs": [],
   "source": [
    "import os\n",
    "import cv2\n",
    "import numpy as np\n",
    "from sklearn.model_selection import train_test_split\n",
    "from imblearn.over_sampling import SMOTE\n",
    "from tqdm import tqdm\n",
    "from KidneyClassifier.utils.common import*\n",
    "\n",
    "# Define class names explicitly here\n",
    "CLASS_NAMES = ['Cyst', 'Normal', 'Stone', 'Tumor']\n",
    "\n",
    "class DataPreprocessing:\n",
    "    def __init__(self, config, data_dir: str):\n",
    "        self.config = config\n",
    "        self.data_dir = data_dir\n",
    "        create_directories([self.config.root_dir])\n",
    "\n",
    "    def load_and_preprocess_images(self):\n",
    "        images = []\n",
    "        labels = []\n",
    "\n",
    "        for idx, class_name in enumerate(CLASS_NAMES):\n",
    "            class_path = os.path.join(self.data_dir, class_name)\n",
    "            if not os.path.exists(class_path):\n",
    "                raise FileNotFoundError(f\"{class_path} not found\")\n",
    "\n",
    "            for img_name in tqdm(os.listdir(class_path), desc=f\"Loading {class_name}\"):\n",
    "                img_path = os.path.join(class_path, img_name)\n",
    "                img = cv2.imread(img_path)\n",
    "                if img is None:\n",
    "                    continue\n",
    "                img = cv2.resize(img, (self.config.image_size, self.config.image_size))\n",
    "                img = cv2.cvtColor(img, cv2.COLOR_BGR2RGB)\n",
    "                img = img / 255.0\n",
    "                images.append(img)\n",
    "                labels.append(idx)\n",
    "\n",
    "        return np.array(images), np.array(labels)\n",
    "\n",
    "    def apply_smote_and_split(self, X, y):\n",
    "        X_flat = X.reshape(len(X), -1)\n",
    "        smote = SMOTE()\n",
    "        X_resampled, y_resampled = smote.fit_resample(X_flat, y)\n",
    "        X_resampled = X_resampled.reshape(-1, self.config.image_size, self.config.image_size, 3)\n",
    "\n",
    "        X_train, X_test, y_train, y_test = train_test_split(\n",
    "            X_resampled, y_resampled, test_size=0.2, random_state=42\n",
    "        )\n",
    "\n",
    "        np.savez_compressed(self.config.processed_data_file, \n",
    "                            X_train=X_train, X_test=X_test, \n",
    "                            y_train=y_train, y_test=y_test)\n",
    "        return X_train, X_test, y_train, y_test\n"
   ]
  },
  {
   "cell_type": "code",
   "execution_count": 6,
   "metadata": {},
   "outputs": [
    {
     "name": "stdout",
     "output_type": "stream",
     "text": [
      "[2025-07-24 20:31:08,348: INFO: common: yaml file: config\\config.yaml loaded successfully]\n",
      "[2025-07-24 20:31:08,348: INFO: common: yaml file: params.yaml loaded successfully]\n",
      "[2025-07-24 20:31:08,348: INFO: common: created directory at: artifacts]\n",
      "[2025-07-24 20:31:08,363: INFO: common: created directory at: artifacts/data_preprocessing]\n",
      "[2025-07-24 20:31:08,363: INFO: common: created directory at: artifacts/data_ingestion]\n",
      "[2025-07-24 20:31:08,372: INFO: common: created directory at: artifacts\\data_preprocessing]\n"
     ]
    },
    {
     "name": "stderr",
     "output_type": "stream",
     "text": [
      "Loading Cyst: 100%|██████████| 3709/3709 [01:25<00:00, 43.36it/s]\n",
      "Loading Normal: 100%|██████████| 5077/5077 [01:53<00:00, 44.78it/s]\n",
      "Loading Stone: 100%|██████████| 1377/1377 [00:31<00:00, 44.21it/s]\n",
      "Loading Tumor: 100%|██████████| 2283/2283 [00:47<00:00, 48.14it/s]\n"
     ]
    },
    {
     "name": "stdout",
     "output_type": "stream",
     "text": [
      "Preprocessing complete. Train shape: (16246, 28, 28, 3), Test shape: (4062, 28, 28, 3)\n"
     ]
    }
   ],
   "source": [
    "from KidneyClassifier.config.configuration import ConfigurationManager\n",
    "\n",
    "STAGE_NAME = \"Data Preprocessing\"\n",
    "\n",
    "def main():\n",
    "    config = ConfigurationManager()\n",
    "    preprocessing_config = config.get_data_preprocessing_config()\n",
    "    \n",
    "    # Path to folder containing subfolders for each class\n",
    "    raw_data_path = Path(config.get_data_ingestion_config().unzip_dir) / \"CT-KIDNEY-DATASET\"\n",
    "\n",
    "    data_preprocessor = DataPreprocessing(preprocessing_config, data_dir=str(raw_data_path))\n",
    "    X, y = data_preprocessor.load_and_preprocess_images()\n",
    "    X_train, X_test, y_train, y_test = data_preprocessor.apply_smote_and_split(X, y)\n",
    "    print(f\"Preprocessing complete. Train shape: {X_train.shape}, Test shape: {X_test.shape}\")\n",
    "\n",
    "if __name__ == \"__main__\":\n",
    "    try:\n",
    "        main()\n",
    "    except Exception as e:\n",
    "        raise e\n"
   ]
  }
 ],
 "metadata": {
  "kernelspec": {
   "display_name": "venv",
   "language": "python",
   "name": "python3"
  },
  "language_info": {
   "codemirror_mode": {
    "name": "ipython",
    "version": 3
   },
   "file_extension": ".py",
   "mimetype": "text/x-python",
   "name": "python",
   "nbconvert_exporter": "python",
   "pygments_lexer": "ipython3",
   "version": "3.11.1"
  }
 },
 "nbformat": 4,
 "nbformat_minor": 2
}
