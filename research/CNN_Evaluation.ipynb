{
 "cells": [
  {
   "cell_type": "code",
   "execution_count": 1,
   "metadata": {},
   "outputs": [
    {
     "data": {
      "text/plain": [
       "'d:\\\\Data Science\\\\END to END Proj\\\\KidneyDiseaseMLOPS'"
      ]
     },
     "execution_count": 1,
     "metadata": {},
     "output_type": "execute_result"
    }
   ],
   "source": [
    "import os\n",
    "%pwd\n",
    "os.chdir(\"../\")\n",
    "%pwd"
   ]
  },
  {
   "cell_type": "code",
   "execution_count": 2,
   "metadata": {},
   "outputs": [
    {
     "name": "stderr",
     "output_type": "stream",
     "text": [
      "\n",
      "[notice] A new release of pip available: 22.3.1 -> 25.1.1\n",
      "[notice] To update, run: python.exe -m pip install --upgrade pip\n"
     ]
    },
    {
     "name": "stdout",
     "output_type": "stream",
     "text": [
      "Requirement already satisfied: dagshub in d:\\data science\\end to end proj\\kidneydiseasemlops\\venv\\lib\\site-packages (0.6.2)\n",
      "Requirement already satisfied: PyYAML>=5 in d:\\data science\\end to end proj\\kidneydiseasemlops\\venv\\lib\\site-packages (from dagshub) (6.0.2)\n",
      "Requirement already satisfied: appdirs>=1.4.4 in d:\\data science\\end to end proj\\kidneydiseasemlops\\venv\\lib\\site-packages (from dagshub) (1.4.4)\n",
      "Requirement already satisfied: click>=8.0.4 in d:\\data science\\end to end proj\\kidneydiseasemlops\\venv\\lib\\site-packages (from dagshub) (8.2.1)\n",
      "Requirement already satisfied: httpx>=0.23.0 in d:\\data science\\end to end proj\\kidneydiseasemlops\\venv\\lib\\site-packages (from dagshub) (0.28.1)\n",
      "Requirement already satisfied: GitPython>=3.1.29 in d:\\data science\\end to end proj\\kidneydiseasemlops\\venv\\lib\\site-packages (from dagshub) (3.1.45)\n",
      "Requirement already satisfied: rich>=13.1.0 in d:\\data science\\end to end proj\\kidneydiseasemlops\\venv\\lib\\site-packages (from dagshub) (14.0.0)\n",
      "Requirement already satisfied: dacite~=1.6.0 in d:\\data science\\end to end proj\\kidneydiseasemlops\\venv\\lib\\site-packages (from dagshub) (1.6.0)\n",
      "Requirement already satisfied: tenacity>=8.2.2 in d:\\data science\\end to end proj\\kidneydiseasemlops\\venv\\lib\\site-packages (from dagshub) (9.1.2)\n",
      "Requirement already satisfied: gql[requests] in d:\\data science\\end to end proj\\kidneydiseasemlops\\venv\\lib\\site-packages (from dagshub) (3.5.3)\n",
      "Requirement already satisfied: dataclasses-json in d:\\data science\\end to end proj\\kidneydiseasemlops\\venv\\lib\\site-packages (from dagshub) (0.6.7)\n",
      "Requirement already satisfied: pandas in d:\\data science\\end to end proj\\kidneydiseasemlops\\venv\\lib\\site-packages (from dagshub) (2.3.1)\n",
      "Requirement already satisfied: treelib>=1.6.4 in d:\\data science\\end to end proj\\kidneydiseasemlops\\venv\\lib\\site-packages (from dagshub) (1.8.0)\n",
      "Requirement already satisfied: pathvalidate>=3.0.0 in d:\\data science\\end to end proj\\kidneydiseasemlops\\venv\\lib\\site-packages (from dagshub) (3.3.1)\n",
      "Requirement already satisfied: python-dateutil in d:\\data science\\end to end proj\\kidneydiseasemlops\\venv\\lib\\site-packages (from dagshub) (2.9.0.post0)\n",
      "Requirement already satisfied: boto3 in d:\\data science\\end to end proj\\kidneydiseasemlops\\venv\\lib\\site-packages (from dagshub) (1.39.12)\n",
      "Requirement already satisfied: semver in d:\\data science\\end to end proj\\kidneydiseasemlops\\venv\\lib\\site-packages (from dagshub) (3.0.4)\n",
      "Requirement already satisfied: dagshub-annotation-converter>=0.1.5 in d:\\data science\\end to end proj\\kidneydiseasemlops\\venv\\lib\\site-packages (from dagshub) (0.1.11)\n",
      "Requirement already satisfied: colorama in d:\\data science\\end to end proj\\kidneydiseasemlops\\venv\\lib\\site-packages (from click>=8.0.4->dagshub) (0.4.6)\n",
      "Requirement already satisfied: lxml in d:\\data science\\end to end proj\\kidneydiseasemlops\\venv\\lib\\site-packages (from dagshub-annotation-converter>=0.1.5->dagshub) (6.0.0)\n",
      "Requirement already satisfied: pillow in d:\\data science\\end to end proj\\kidneydiseasemlops\\venv\\lib\\site-packages (from dagshub-annotation-converter>=0.1.5->dagshub) (11.3.0)\n",
      "Requirement already satisfied: pydantic>=2.0.0 in d:\\data science\\end to end proj\\kidneydiseasemlops\\venv\\lib\\site-packages (from dagshub-annotation-converter>=0.1.5->dagshub) (2.11.7)\n",
      "Requirement already satisfied: typing-extensions in d:\\data science\\end to end proj\\kidneydiseasemlops\\venv\\lib\\site-packages (from dagshub-annotation-converter>=0.1.5->dagshub) (4.14.1)\n",
      "Requirement already satisfied: gitdb<5,>=4.0.1 in d:\\data science\\end to end proj\\kidneydiseasemlops\\venv\\lib\\site-packages (from GitPython>=3.1.29->dagshub) (4.0.12)\n",
      "Requirement already satisfied: anyio in d:\\data science\\end to end proj\\kidneydiseasemlops\\venv\\lib\\site-packages (from httpx>=0.23.0->dagshub) (4.9.0)\n",
      "Requirement already satisfied: certifi in d:\\data science\\end to end proj\\kidneydiseasemlops\\venv\\lib\\site-packages (from httpx>=0.23.0->dagshub) (2025.7.14)\n",
      "Requirement already satisfied: httpcore==1.* in d:\\data science\\end to end proj\\kidneydiseasemlops\\venv\\lib\\site-packages (from httpx>=0.23.0->dagshub) (1.0.9)\n",
      "Requirement already satisfied: idna in d:\\data science\\end to end proj\\kidneydiseasemlops\\venv\\lib\\site-packages (from httpx>=0.23.0->dagshub) (3.10)\n",
      "Requirement already satisfied: h11>=0.16 in d:\\data science\\end to end proj\\kidneydiseasemlops\\venv\\lib\\site-packages (from httpcore==1.*->httpx>=0.23.0->dagshub) (0.16.0)\n",
      "Requirement already satisfied: markdown-it-py>=2.2.0 in d:\\data science\\end to end proj\\kidneydiseasemlops\\venv\\lib\\site-packages (from rich>=13.1.0->dagshub) (3.0.0)\n",
      "Requirement already satisfied: pygments<3.0.0,>=2.13.0 in d:\\data science\\end to end proj\\kidneydiseasemlops\\venv\\lib\\site-packages (from rich>=13.1.0->dagshub) (2.19.2)\n",
      "Requirement already satisfied: six>=1.13.0 in d:\\data science\\end to end proj\\kidneydiseasemlops\\venv\\lib\\site-packages (from treelib>=1.6.4->dagshub) (1.17.0)\n",
      "Requirement already satisfied: botocore<1.40.0,>=1.39.12 in d:\\data science\\end to end proj\\kidneydiseasemlops\\venv\\lib\\site-packages (from boto3->dagshub) (1.39.12)\n",
      "Requirement already satisfied: jmespath<2.0.0,>=0.7.1 in d:\\data science\\end to end proj\\kidneydiseasemlops\\venv\\lib\\site-packages (from boto3->dagshub) (1.0.1)\n",
      "Requirement already satisfied: s3transfer<0.14.0,>=0.13.0 in d:\\data science\\end to end proj\\kidneydiseasemlops\\venv\\lib\\site-packages (from boto3->dagshub) (0.13.1)\n",
      "Requirement already satisfied: marshmallow<4.0.0,>=3.18.0 in d:\\data science\\end to end proj\\kidneydiseasemlops\\venv\\lib\\site-packages (from dataclasses-json->dagshub) (3.26.1)\n",
      "Requirement already satisfied: typing-inspect<1,>=0.4.0 in d:\\data science\\end to end proj\\kidneydiseasemlops\\venv\\lib\\site-packages (from dataclasses-json->dagshub) (0.9.0)\n",
      "Requirement already satisfied: graphql-core<3.2.7,>=3.2 in d:\\data science\\end to end proj\\kidneydiseasemlops\\venv\\lib\\site-packages (from gql[requests]->dagshub) (3.2.6)\n",
      "Requirement already satisfied: yarl<2.0,>=1.6 in d:\\data science\\end to end proj\\kidneydiseasemlops\\venv\\lib\\site-packages (from gql[requests]->dagshub) (1.20.1)\n",
      "Requirement already satisfied: backoff<3.0,>=1.11.1 in d:\\data science\\end to end proj\\kidneydiseasemlops\\venv\\lib\\site-packages (from gql[requests]->dagshub) (2.2.1)\n",
      "Requirement already satisfied: requests<3,>=2.26 in d:\\data science\\end to end proj\\kidneydiseasemlops\\venv\\lib\\site-packages (from gql[requests]->dagshub) (2.32.4)\n",
      "Requirement already satisfied: requests-toolbelt<2,>=1.0.0 in d:\\data science\\end to end proj\\kidneydiseasemlops\\venv\\lib\\site-packages (from gql[requests]->dagshub) (1.0.0)\n",
      "Requirement already satisfied: numpy>=1.23.2 in d:\\data science\\end to end proj\\kidneydiseasemlops\\venv\\lib\\site-packages (from pandas->dagshub) (1.23.5)\n",
      "Requirement already satisfied: pytz>=2020.1 in d:\\data science\\end to end proj\\kidneydiseasemlops\\venv\\lib\\site-packages (from pandas->dagshub) (2022.7.1)\n",
      "Requirement already satisfied: tzdata>=2022.7 in d:\\data science\\end to end proj\\kidneydiseasemlops\\venv\\lib\\site-packages (from pandas->dagshub) (2025.2)\n",
      "Requirement already satisfied: sniffio>=1.1 in d:\\data science\\end to end proj\\kidneydiseasemlops\\venv\\lib\\site-packages (from anyio->httpx>=0.23.0->dagshub) (1.3.1)\n",
      "Requirement already satisfied: urllib3!=2.2.0,<3,>=1.25.4 in d:\\data science\\end to end proj\\kidneydiseasemlops\\venv\\lib\\site-packages (from botocore<1.40.0,>=1.39.12->boto3->dagshub) (2.5.0)\n",
      "Requirement already satisfied: smmap<6,>=3.0.1 in d:\\data science\\end to end proj\\kidneydiseasemlops\\venv\\lib\\site-packages (from gitdb<5,>=4.0.1->GitPython>=3.1.29->dagshub) (5.0.2)\n",
      "Requirement already satisfied: mdurl~=0.1 in d:\\data science\\end to end proj\\kidneydiseasemlops\\venv\\lib\\site-packages (from markdown-it-py>=2.2.0->rich>=13.1.0->dagshub) (0.1.2)\n",
      "Requirement already satisfied: packaging>=17.0 in d:\\data science\\end to end proj\\kidneydiseasemlops\\venv\\lib\\site-packages (from marshmallow<4.0.0,>=3.18.0->dataclasses-json->dagshub) (23.2)\n",
      "Requirement already satisfied: annotated-types>=0.6.0 in d:\\data science\\end to end proj\\kidneydiseasemlops\\venv\\lib\\site-packages (from pydantic>=2.0.0->dagshub-annotation-converter>=0.1.5->dagshub) (0.7.0)\n",
      "Requirement already satisfied: pydantic-core==2.33.2 in d:\\data science\\end to end proj\\kidneydiseasemlops\\venv\\lib\\site-packages (from pydantic>=2.0.0->dagshub-annotation-converter>=0.1.5->dagshub) (2.33.2)\n",
      "Requirement already satisfied: typing-inspection>=0.4.0 in d:\\data science\\end to end proj\\kidneydiseasemlops\\venv\\lib\\site-packages (from pydantic>=2.0.0->dagshub-annotation-converter>=0.1.5->dagshub) (0.4.1)\n",
      "Requirement already satisfied: charset_normalizer<4,>=2 in d:\\data science\\end to end proj\\kidneydiseasemlops\\venv\\lib\\site-packages (from requests<3,>=2.26->gql[requests]->dagshub) (3.4.2)\n",
      "Requirement already satisfied: mypy-extensions>=0.3.0 in d:\\data science\\end to end proj\\kidneydiseasemlops\\venv\\lib\\site-packages (from typing-inspect<1,>=0.4.0->dataclasses-json->dagshub) (1.1.0)\n",
      "Requirement already satisfied: multidict>=4.0 in d:\\data science\\end to end proj\\kidneydiseasemlops\\venv\\lib\\site-packages (from yarl<2.0,>=1.6->gql[requests]->dagshub) (6.6.3)\n",
      "Requirement already satisfied: propcache>=0.2.1 in d:\\data science\\end to end proj\\kidneydiseasemlops\\venv\\lib\\site-packages (from yarl<2.0,>=1.6->gql[requests]->dagshub) (0.3.2)\n",
      "Note: you may need to restart the kernel to use updated packages.\n"
     ]
    },
    {
     "data": {
      "text/html": [
       "<pre style=\"white-space:pre;overflow-x:auto;line-height:normal;font-family:Menlo,'DejaVu Sans Mono',consolas,'Courier New',monospace\">Accessing as gowtham-dd\n",
       "</pre>\n"
      ],
      "text/plain": [
       "Accessing as gowtham-dd\n"
      ]
     },
     "metadata": {},
     "output_type": "display_data"
    },
    {
     "data": {
      "text/html": [
       "<pre style=\"white-space:pre;overflow-x:auto;line-height:normal;font-family:Menlo,'DejaVu Sans Mono',consolas,'Courier New',monospace\">Initialized MLflow to track repo <span style=\"color: #008000; text-decoration-color: #008000\">\"gowtham-dd/KidneyDiseaseMLOPS\"</span>\n",
       "</pre>\n"
      ],
      "text/plain": [
       "Initialized MLflow to track repo \u001b[32m\"gowtham-dd/KidneyDiseaseMLOPS\"\u001b[0m\n"
      ]
     },
     "metadata": {},
     "output_type": "display_data"
    },
    {
     "data": {
      "text/html": [
       "<pre style=\"white-space:pre;overflow-x:auto;line-height:normal;font-family:Menlo,'DejaVu Sans Mono',consolas,'Courier New',monospace\">Repository gowtham-dd/KidneyDiseaseMLOPS initialized!\n",
       "</pre>\n"
      ],
      "text/plain": [
       "Repository gowtham-dd/KidneyDiseaseMLOPS initialized!\n"
      ]
     },
     "metadata": {},
     "output_type": "display_data"
    }
   ],
   "source": [
    "%pip install dagshub\n",
    "import dagshub\n",
    "dagshub.init(repo_owner='gowtham-dd', repo_name='KidneyDiseaseMLOPS', mlflow=True)\n",
    "\n",
    "import mlflow\n",
    "with mlflow.start_run():\n",
    "  mlflow.log_param('parameter name', 'value')\n",
    "  mlflow.log_metric('metric name', 1)"
   ]
  },
  {
   "cell_type": "code",
   "execution_count": 3,
   "metadata": {},
   "outputs": [],
   "source": [
    "from dataclasses import dataclass\n",
    "from typing import List\n",
    "from pathlib import Path\n",
    "\n",
    "@dataclass(frozen=True)\n",
    "class ModelEvaluationConfig:\n",
    "    root_dir: Path\n",
    "    test_data_path: Path\n",
    "    model_path: Path\n",
    "    metric_file_name: Path\n",
    "    mlflow_uri: str\n",
    "    batch_size: int\n",
    "    target_metric: str\n",
    "    all_params: dict  \n"
   ]
  },
  {
   "cell_type": "code",
   "execution_count": 4,
   "metadata": {},
   "outputs": [],
   "source": [
    "\n",
    "from KidneyClassifier.utils.common import read_yaml, create_directories\n",
    "from pathlib import Path\n",
    "from KidneyClassifier.constant import*\n",
    "class ConfigurationManager:\n",
    "    def __init__(\n",
    "        self,\n",
    "        config_filepath=CONFIG_FILE_PATH,\n",
    "        params_filepath=PARAMS_FILE_PATH,\n",
    "    ):\n",
    "        self.config = read_yaml(config_filepath)\n",
    "        self.params = read_yaml(params_filepath)\n",
    "        create_directories([self.config.artifacts_root])    \n",
    "    \n",
    "    def get_model_evaluation_config(self) -> ModelEvaluationConfig:\n",
    "        config = self.config.model_evaluation\n",
    "        params = self.params.model_evaluation  # or whatever group you use\n",
    "\n",
    "        create_directories([config.root_dir])\n",
    "\n",
    "        return ModelEvaluationConfig(\n",
    "        root_dir=Path(config.root_dir),\n",
    "        test_data_path=Path(config.test_data_path),\n",
    "        model_path=Path(config.model_path),\n",
    "        metric_file_name=Path(config.metric_file_name),\n",
    "        mlflow_uri=config.mlflow_uri,\n",
    "        batch_size=params.batch_size,\n",
    "        target_metric=params.target_metric,\n",
    "        all_params=params  \n",
    "        )\n"
   ]
  },
  {
   "cell_type": "code",
   "execution_count": 5,
   "metadata": {},
   "outputs": [],
   "source": [
    "import numpy as np\n",
    "import tensorflow as tf\n",
    "import mlflow\n",
    "from KidneyClassifier.utils.common import save_json\n",
    "from KidneyClassifier import logger\n",
    "\n",
    "class ModelEvaluation:\n",
    "    def __init__(self, config):\n",
    "        self.config = config\n",
    "\n",
    "    def _load_model(self):\n",
    "        # Load Keras saved model, not generic TF SavedModel\n",
    "        model = tf.keras.models.load_model(str(self.config.model_path))\n",
    "        return model\n",
    "\n",
    "    def evaluate_model(self):\n",
    "        # Load test data\n",
    "        test_data = np.load(self.config.test_data_path)\n",
    "        X_test, y_test = test_data['X_test'], test_data['y_test']\n",
    "\n",
    "        # Convert to float32 if needed\n",
    "        if X_test.dtype == np.float64:\n",
    "            X_test = X_test.astype(np.float32)\n",
    "\n",
    "        # Load Keras model\n",
    "        model = self._load_model()\n",
    "\n",
    "        # Predict using Keras model\n",
    "        y_pred_probs = model.predict(X_test, batch_size=self.config.batch_size)\n",
    "        y_pred = np.argmax(y_pred_probs, axis=1)\n",
    "\n",
    "        # Calculate metrics\n",
    "        accuracy = np.mean(y_test == y_pred)\n",
    "        precision = tf.keras.metrics.Precision()(y_test, y_pred).numpy()\n",
    "        recall = tf.keras.metrics.Recall()(y_test, y_pred).numpy()\n",
    "        f1 = 2 * (precision * recall) / (precision + recall + 1e-7)  # small epsilon to avoid div by zero\n",
    "\n",
    "        metrics = {\n",
    "            \"accuracy\": float(accuracy),\n",
    "            \"precision\": float(precision),\n",
    "            \"recall\": float(recall),\n",
    "            \"f1_score\": float(f1)\n",
    "        }\n",
    "\n",
    "        save_json(path=self.config.metric_file_name, data=metrics)\n",
    "        logger.info(f\"Evaluation metrics: {metrics}\")\n",
    "        return metrics\n",
    "    \n",
    "    def log_into_mlflow(self):\n",
    "        mlflow.set_tracking_uri(self.config.mlflow_uri)\n",
    "\n",
    "        try:\n",
    "            with mlflow.start_run():\n",
    "            # ✅ Log all parameters\n",
    "                mlflow.log_params(self.config.all_params)\n",
    "\n",
    "            # Evaluate and log metrics\n",
    "                metrics = self.evaluate_model()\n",
    "                mlflow.log_metrics(metrics)\n",
    "\n",
    "            # Log model\n",
    "                mlflow.tensorflow.log_model(\n",
    "                model=tf.keras.models.load_model(self.config.model_path),\n",
    "                artifact_path=\"kidney_model\",\n",
    "                registered_model_name=\"Kidney_SavedModel\"\n",
    "            )\n",
    "\n",
    "                logger.info(\"MLflow logging completed successfully\")\n",
    "\n",
    "        except Exception as e:\n",
    "            logger.error(f\"MLflow logging failed: {e}\")\n",
    "            if mlflow.active_run():\n",
    "                mlflow.end_run(status=\"FAILED\")\n",
    "            raise\n"
   ]
  },
  {
   "cell_type": "code",
   "execution_count": 6,
   "metadata": {},
   "outputs": [
    {
     "name": "stdout",
     "output_type": "stream",
     "text": [
      "[2025-07-25 01:59:39,376: INFO: common: yaml file: config\\config.yaml loaded successfully]\n",
      "[2025-07-25 01:59:39,403: INFO: common: yaml file: params.yaml loaded successfully]\n",
      "[2025-07-25 01:59:39,406: INFO: common: created directory at: artifacts]\n",
      "[2025-07-25 01:59:39,410: INFO: common: created directory at: artifacts/model_evaluation]\n",
      "127/127 [==============================] - 3s 20ms/step\n",
      "[2025-07-25 01:59:47,113: INFO: common: json file saved at: artifacts\\model_evaluation\\metrics.json]\n",
      "[2025-07-25 01:59:47,119: INFO: 2308986648: Evaluation metrics: {'accuracy': 1.0, 'precision': 1.0, 'recall': 1.0, 'f1_score': 0.9999999500000026}]\n"
     ]
    },
    {
     "name": "stderr",
     "output_type": "stream",
     "text": [
      "2025/07/25 01:59:49 WARNING mlflow.tensorflow: You are saving a TensorFlow Core model or Keras model without a signature. Inference with mlflow.pyfunc.spark_udf() will not work unless the model's pyfunc representation accepts pandas DataFrames as inference inputs.\n"
     ]
    },
    {
     "name": "stdout",
     "output_type": "stream",
     "text": [
      "[2025-07-25 01:59:51,800: WARNING: save: Found untraced functions such as _jit_compiled_convolution_op, _jit_compiled_convolution_op, _jit_compiled_convolution_op, _update_step_xla while saving (showing 4 of 4). These functions will not be directly callable after loading.]\n",
      "[2025-07-25 01:59:52,596: INFO: builder_impl: Assets written to: C:\\Users\\dell\\AppData\\Local\\Temp\\tmpqodju0f1\\model\\data\\model\\assets]\n"
     ]
    },
    {
     "name": "stderr",
     "output_type": "stream",
     "text": [
      "d:\\Data Science\\END to END Proj\\KidneyDiseaseMLOPS\\venv\\Lib\\site-packages\\_distutils_hack\\__init__.py:33: UserWarning: Setuptools is replacing distutils.\n",
      "  warnings.warn(\"Setuptools is replacing distutils.\")\n",
      "Registered model 'Kidney_SavedModel' already exists. Creating a new version of this model...\n",
      "2025/07/25 02:00:27 INFO mlflow.tracking._model_registry.client: Waiting up to 300 seconds for model version to finish creation.                     Model name: Kidney_SavedModel, version 4\n"
     ]
    },
    {
     "name": "stdout",
     "output_type": "stream",
     "text": [
      "[2025-07-25 02:00:27,257: INFO: 2308986648: MLflow logging completed successfully]\n"
     ]
    },
    {
     "name": "stderr",
     "output_type": "stream",
     "text": [
      "Created version '4' of model 'Kidney_SavedModel'.\n"
     ]
    }
   ],
   "source": [
    "from KidneyClassifier import logger\n",
    "try:\n",
    "    config = ConfigurationManager()\n",
    "    eval_config = config.get_model_evaluation_config()\n",
    "    model_evaluator = ModelEvaluation(config=eval_config)  # Now works correctly\n",
    "    model_evaluator.log_into_mlflow()\n",
    "except Exception as e:\n",
    "    logger.exception(e)\n",
    "    raise e"
   ]
  },
  {
   "cell_type": "code",
   "execution_count": 7,
   "metadata": {},
   "outputs": [],
   "source": [
    "if mlflow.active_run():\n",
    "    mlflow.end_run()\n"
   ]
  }
 ],
 "metadata": {
  "kernelspec": {
   "display_name": "venv",
   "language": "python",
   "name": "python3"
  },
  "language_info": {
   "codemirror_mode": {
    "name": "ipython",
    "version": 3
   },
   "file_extension": ".py",
   "mimetype": "text/x-python",
   "name": "python",
   "nbconvert_exporter": "python",
   "pygments_lexer": "ipython3",
   "version": "3.11.1"
  }
 },
 "nbformat": 4,
 "nbformat_minor": 2
}
